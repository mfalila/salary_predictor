{
 "cells": [
  {
   "cell_type": "markdown",
   "metadata": {},
   "source": [
    "# Salary Predictions Based on Job Descriptions"
   ]
  },
  {
   "cell_type": "markdown",
   "metadata": {},
   "source": [
    "# OBJECTIVE\n",
    "\n",
    "* This experiment seeks to <b/>build a salary predicting model</b> for new job postings given some features of historical job postings.\n",
    "\n",
    "* The objective of this experiment is to <b/>minimize the error</b> between predicted salaries from the model versus actual salaries paid."
   ]
  },
  {
   "cell_type": "code",
   "execution_count": 1,
   "metadata": {},
   "outputs": [],
   "source": [
    "#import your libraries\n",
    "import pandas as pd\n",
    "import sklearn as sk\n",
    "\n",
    "\n",
    "#your info here\n",
    "__author__ = \"Sam Mfalila\"\n",
    "__email__ = \"sam.mfalila@gmail.com\"\n"
   ]
  },
  {
   "cell_type": "code",
   "execution_count": 2,
   "metadata": {},
   "outputs": [
    {
     "data": {
      "text/plain": [
       "'/media/sl202194/Seagate Backup Plus Drive/a. Data Science Dream Job/b. Projects/HR Analytics/Salary Predictor/salary_predictor_deliverables'"
      ]
     },
     "execution_count": 2,
     "metadata": {},
     "output_type": "execute_result"
    }
   ],
   "source": [
    "pwd"
   ]
  },
  {
   "cell_type": "code",
   "execution_count": 1,
   "metadata": {
    "scrolled": true
   },
   "outputs": [
    {
     "name": "stdout",
     "output_type": "stream",
     "text": [
      "'00. Define Problem.ipynb'\t final_model_salary_predictor.pkl\r\n",
      "'01. Data Preparation.ipynb'\t helpers\r\n",
      "'02. Data_Exploration.ipynb'\t misc\r\n",
      "'03. Data_Preprocessing.ipynb'\t raw_data\r\n",
      "'04. Data_modeling.ipynb'\t salaries.csv\r\n",
      " data_trans_pipe.PNG\t\t salary_predictor.py\r\n",
      " derived_data\t\t\t unzipped_data\r\n"
     ]
    }
   ],
   "source": [
    "!ls"
   ]
  },
  {
   "cell_type": "markdown",
   "metadata": {},
   "source": [
    "## Getting the Raw Data"
   ]
  },
  {
   "cell_type": "code",
   "execution_count": 8,
   "metadata": {},
   "outputs": [
    {
     "name": "stdout",
     "output_type": "stream",
     "text": [
      "total 24M\r\n",
      "-rwxrwxrwx 1 sl202194 sl202194 24M Jan 24 17:36 DSDJ-data-SalaryPredictions.zip\r\n"
     ]
    }
   ],
   "source": [
    "!ls -lh raw_data"
   ]
  },
  {
   "cell_type": "markdown",
   "metadata": {},
   "source": [
    "## Unziping the Data"
   ]
  },
  {
   "cell_type": "code",
   "execution_count": 9,
   "metadata": {},
   "outputs": [],
   "source": [
    "%%bash\n",
    "\n",
    "#Making a Directory called unzipped_data, deleting one if any exists:\n",
    "rm -rf unzipped_data\n",
    "mkdir unzipped_data"
   ]
  },
  {
   "cell_type": "code",
   "execution_count": 10,
   "metadata": {},
   "outputs": [
    {
     "name": "stdout",
     "output_type": "stream",
     "text": [
      "Archive:  raw_data/DSDJ-data-SalaryPredictions.zip\n",
      "  inflating: unzipped_data/data/test_features.csv  \n",
      "  inflating: unzipped_data/data/train_features.csv  \n",
      "  inflating: unzipped_data/data/train_salaries.csv  \n"
     ]
    }
   ],
   "source": [
    "%%bash\n",
    "\n",
    "#Unzipping raw data into the raw_data directory\n",
    "unzip \"raw_data/*.zip\" -d unzipped_data"
   ]
  },
  {
   "cell_type": "markdown",
   "metadata": {},
   "source": [
    "## Installing Dependencies\n",
    "\n",
    "Note: xlrd for reading Excel files, matplotlib for ploting"
   ]
  },
  {
   "cell_type": "code",
   "execution_count": 5,
   "metadata": {},
   "outputs": [
    {
     "name": "stdout",
     "output_type": "stream",
     "text": [
      "Collecting package metadata (current_repodata.json): ...working... done\n",
      "Solving environment: ...working... done\n",
      "\n",
      "## Package Plan ##\n",
      "\n",
      "  environment location: /home/sl202194/miniconda3\n",
      "\n",
      "  added / updated specs:\n",
      "    - xlrd\n",
      "\n",
      "\n",
      "The following packages will be downloaded:\n",
      "\n",
      "    package                    |            build\n",
      "    ---------------------------|-----------------\n",
      "    xlrd-1.2.0                 |           py37_0         175 KB\n",
      "    ------------------------------------------------------------\n",
      "                                           Total:         175 KB\n",
      "\n",
      "The following NEW packages will be INSTALLED:\n",
      "\n",
      "  xlrd               pkgs/main/linux-64::xlrd-1.2.0-py37_0\n",
      "\n",
      "\n",
      "Proceed ([y]/n)? \n",
      "\n",
      "Downloading and Extracting Packages\n",
      "\r",
      "xlrd-1.2.0           | 175 KB    |            |   0% \r",
      "xlrd-1.2.0           | 175 KB    | 9          |   9% \r",
      "xlrd-1.2.0           | 175 KB    | #####4     |  55% \r",
      "xlrd-1.2.0           | 175 KB    | ########## | 100% \n",
      "Preparing transaction: ...working... done\n",
      "Verifying transaction: ...working... done\n",
      "Executing transaction: ...working... done\n"
     ]
    }
   ],
   "source": [
    "%%bash\n",
    "\n",
    "conda install xlrd "
   ]
  },
  {
   "cell_type": "code",
   "execution_count": null,
   "metadata": {},
   "outputs": [],
   "source": []
  }
 ],
 "metadata": {
  "kernelspec": {
   "display_name": "Python 3",
   "language": "python",
   "name": "python3"
  },
  "language_info": {
   "codemirror_mode": {
    "name": "ipython",
    "version": 3
   },
   "file_extension": ".py",
   "mimetype": "text/x-python",
   "name": "python",
   "nbconvert_exporter": "python",
   "pygments_lexer": "ipython3",
   "version": "3.7.4"
  }
 },
 "nbformat": 4,
 "nbformat_minor": 2
}
